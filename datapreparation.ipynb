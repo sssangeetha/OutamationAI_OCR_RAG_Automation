{
  "nbformat": 4,
  "nbformat_minor": 0,
  "metadata": {
    "colab": {
      "provenance": [],
      "authorship_tag": "ABX9TyONmHUUK7WG/PFPeKtbLYfV",
      "include_colab_link": true
    },
    "kernelspec": {
      "name": "python3",
      "display_name": "Python 3"
    },
    "language_info": {
      "name": "python"
    }
  },
  "cells": [
    {
      "cell_type": "markdown",
      "metadata": {
        "id": "view-in-github",
        "colab_type": "text"
      },
      "source": [
        "<a href=\"https://colab.research.google.com/github/sssangeetha/OutamationAI_OCR_RAG_Automation/blob/main/datapreparation.ipynb\" target=\"_parent\"><img src=\"https://colab.research.google.com/assets/colab-badge.svg\" alt=\"Open In Colab\"/></a>"
      ]
    },
    {
      "cell_type": "code",
      "execution_count": null,
      "metadata": {
        "colab": {
          "base_uri": "https://localhost:8080/"
        },
        "id": "D8IE8nj8YdVI",
        "outputId": "971aa876-9730-4096-9b24-d2c8a90650b3"
      },
      "outputs": [
        {
          "output_type": "stream",
          "name": "stdout",
          "text": [
            "✅ Text cleaning complete! Cleaned text saved in 'cleaned_text.txt'\n"
          ]
        }
      ],
      "source": [
        "import re\n",
        "import unicodedata\n",
        "\n",
        "# Step 1: Read messy text\n",
        "with open(\"text_sample.txt\", \"r\", encoding=\"utf-8\", errors=\"ignore\") as file:\n",
        "    text = file.read()\n",
        "\n",
        "# Step 2: Normalize unicode characters\n",
        "text = unicodedata.normalize(\"NFKD\", text)\n",
        "\n",
        "# Step 3: Lowercase everything\n",
        "text = text.lower()\n",
        "\n",
        "# Step 4: Remove special characters & digits (keep words and spaces)\n",
        "text = re.sub(r\"[^a-z\\s']\", \" \", text)\n",
        "\n",
        "# Step 5: Remove extra spaces\n",
        "text = re.sub(r\"\\s+\", \" \", text).strip()\n",
        "\n",
        "# Step 6: Write cleaned text to new file\n",
        "with open(\"cleaned_text.txt\", \"w\", encoding=\"utf-8\") as file:\n",
        "    file.write(text)\n",
        "\n",
        "print(\"✅ Text cleaning complete! Cleaned text saved in 'cleaned_text.txt'\")\n"
      ]
    }
  ]
}