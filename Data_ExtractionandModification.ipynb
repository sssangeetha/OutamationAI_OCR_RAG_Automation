{
  "nbformat": 4,
  "nbformat_minor": 0,
  "metadata": {
    "colab": {
      "provenance": [],
      "authorship_tag": "ABX9TyM493VGO5JBSD5bH2NP8Nc0",
      "include_colab_link": true
    },
    "kernelspec": {
      "name": "python3",
      "display_name": "Python 3"
    },
    "language_info": {
      "name": "python"
    }
  },
  "cells": [
    {
      "cell_type": "markdown",
      "metadata": {
        "id": "view-in-github",
        "colab_type": "text"
      },
      "source": [
        "<a href=\"https://colab.research.google.com/github/sssangeetha/OutamationAI_OCR_RAG_Automation/blob/main/Data_ExtractionandModification.ipynb\" target=\"_parent\"><img src=\"https://colab.research.google.com/assets/colab-badge.svg\" alt=\"Open In Colab\"/></a>"
      ]
    },
    {
      "cell_type": "code",
      "execution_count": null,
      "metadata": {
        "id": "pUTFgz-o5q0F"
      },
      "outputs": [],
      "source": [
        "import pandas as pd"
      ]
    },
    {
      "cell_type": "code",
      "source": [
        "df = pd.read_csv('bank_loan.csv')"
      ],
      "metadata": {
        "id": "AWvDRfBY5x5I"
      },
      "execution_count": null,
      "outputs": []
    },
    {
      "cell_type": "code",
      "source": [
        "print(\"First five rows of the dataset:\")\n",
        "print(df.head())"
      ],
      "metadata": {
        "colab": {
          "base_uri": "https://localhost:8080/"
        },
        "id": "cneRGpQN8WJ1",
        "outputId": "783542fe-dd0f-4955-f965-7cc00459779f"
      },
      "execution_count": null,
      "outputs": [
        {
          "output_type": "stream",
          "name": "stdout",
          "text": [
            "First five rows of the dataset:\n",
            "   ID  Age  Experience  Income  ZIP Code  Family CCAvg  Education  Mortgage  \\\n",
            "0   1   25           1      49     91108       4  1/60          1         0   \n",
            "1   2   45          19      34     90089       3  1/50          1         0   \n",
            "2   3   39          15      11     94720       1  1/00          1         0   \n",
            "3   4   35           9     100     94112       1  2/70          2         0   \n",
            "4   5   35           8      45     91330       4  1/00          2         0   \n",
            "\n",
            "   Personal Loan  Securities Account  CD Account  Online  CreditCard  \n",
            "0              0                   1           0       0           0  \n",
            "1              0                   1           0       0           0  \n",
            "2              0                   0           0       0           0  \n",
            "3              0                   0           0       0           0  \n",
            "4              0                   0           0       0           1  \n"
          ]
        }
      ]
    },
    {
      "cell_type": "code",
      "source": [
        "print(\"\\nDataFrame summary:\")\n",
        "print(df.info())"
      ],
      "metadata": {
        "colab": {
          "base_uri": "https://localhost:8080/"
        },
        "id": "yxL5T7dt9FyE",
        "outputId": "0d33312b-f1f6-42d7-b5e9-68887546e731"
      },
      "execution_count": null,
      "outputs": [
        {
          "output_type": "stream",
          "name": "stdout",
          "text": [
            "\n",
            "DataFrame summary:\n",
            "<class 'pandas.core.frame.DataFrame'>\n",
            "RangeIndex: 5000 entries, 0 to 4999\n",
            "Data columns (total 14 columns):\n",
            " #   Column              Non-Null Count  Dtype \n",
            "---  ------              --------------  ----- \n",
            " 0   ID                  5000 non-null   int64 \n",
            " 1   Age                 5000 non-null   int64 \n",
            " 2   Experience          5000 non-null   int64 \n",
            " 3   Income              5000 non-null   int64 \n",
            " 4   ZIP Code            5000 non-null   int64 \n",
            " 5   Family              5000 non-null   int64 \n",
            " 6   CCAvg               5000 non-null   object\n",
            " 7   Education           5000 non-null   int64 \n",
            " 8   Mortgage            5000 non-null   int64 \n",
            " 9   Personal Loan       5000 non-null   int64 \n",
            " 10  Securities Account  5000 non-null   int64 \n",
            " 11  CD Account          5000 non-null   int64 \n",
            " 12  Online              5000 non-null   int64 \n",
            " 13  CreditCard          5000 non-null   int64 \n",
            "dtypes: int64(13), object(1)\n",
            "memory usage: 547.0+ KB\n",
            "None\n"
          ]
        }
      ]
    },
    {
      "cell_type": "code",
      "source": [
        "print(df.isnull())"
      ],
      "metadata": {
        "colab": {
          "base_uri": "https://localhost:8080/"
        },
        "id": "9J2ssIvk-_S_",
        "outputId": "bd2a6f63-a42a-4c4e-ecd7-e1d6281cada3"
      },
      "execution_count": null,
      "outputs": [
        {
          "output_type": "stream",
          "name": "stdout",
          "text": [
            "         ID    Age  Experience  Income  ZIP Code  Family  CCAvg  Education  \\\n",
            "0     False  False       False   False     False   False  False      False   \n",
            "1     False  False       False   False     False   False  False      False   \n",
            "2     False  False       False   False     False   False  False      False   \n",
            "3     False  False       False   False     False   False  False      False   \n",
            "4     False  False       False   False     False   False  False      False   \n",
            "...     ...    ...         ...     ...       ...     ...    ...        ...   \n",
            "4995  False  False       False   False     False   False  False      False   \n",
            "4996  False  False       False   False     False   False  False      False   \n",
            "4997  False  False       False   False     False   False  False      False   \n",
            "4998  False  False       False   False     False   False  False      False   \n",
            "4999  False  False       False   False     False   False  False      False   \n",
            "\n",
            "      Mortgage  Personal Loan  Securities Account  CD Account  Online  \\\n",
            "0        False          False               False       False   False   \n",
            "1        False          False               False       False   False   \n",
            "2        False          False               False       False   False   \n",
            "3        False          False               False       False   False   \n",
            "4        False          False               False       False   False   \n",
            "...        ...            ...                 ...         ...     ...   \n",
            "4995     False          False               False       False   False   \n",
            "4996     False          False               False       False   False   \n",
            "4997     False          False               False       False   False   \n",
            "4998     False          False               False       False   False   \n",
            "4999     False          False               False       False   False   \n",
            "\n",
            "      CreditCard  \n",
            "0          False  \n",
            "1          False  \n",
            "2          False  \n",
            "3          False  \n",
            "4          False  \n",
            "...          ...  \n",
            "4995       False  \n",
            "4996       False  \n",
            "4997       False  \n",
            "4998       False  \n",
            "4999       False  \n",
            "\n",
            "[5000 rows x 14 columns]\n"
          ]
        }
      ]
    },
    {
      "cell_type": "code",
      "source": [
        "#print not null values\n",
        "print(df.notnull())"
      ],
      "metadata": {
        "colab": {
          "base_uri": "https://localhost:8080/"
        },
        "id": "siI_CABa_H6a",
        "outputId": "83a06d87-c7d5-4ef5-c3c4-f69d5a2bab00"
      },
      "execution_count": null,
      "outputs": [
        {
          "output_type": "stream",
          "name": "stdout",
          "text": [
            "        ID   Age  Experience  Income  ZIP Code  Family  CCAvg  Education  \\\n",
            "0     True  True        True    True      True    True   True       True   \n",
            "1     True  True        True    True      True    True   True       True   \n",
            "2     True  True        True    True      True    True   True       True   \n",
            "3     True  True        True    True      True    True   True       True   \n",
            "4     True  True        True    True      True    True   True       True   \n",
            "...    ...   ...         ...     ...       ...     ...    ...        ...   \n",
            "4995  True  True        True    True      True    True   True       True   \n",
            "4996  True  True        True    True      True    True   True       True   \n",
            "4997  True  True        True    True      True    True   True       True   \n",
            "4998  True  True        True    True      True    True   True       True   \n",
            "4999  True  True        True    True      True    True   True       True   \n",
            "\n",
            "      Mortgage  Personal Loan  Securities Account  CD Account  Online  \\\n",
            "0         True           True                True        True    True   \n",
            "1         True           True                True        True    True   \n",
            "2         True           True                True        True    True   \n",
            "3         True           True                True        True    True   \n",
            "4         True           True                True        True    True   \n",
            "...        ...            ...                 ...         ...     ...   \n",
            "4995      True           True                True        True    True   \n",
            "4996      True           True                True        True    True   \n",
            "4997      True           True                True        True    True   \n",
            "4998      True           True                True        True    True   \n",
            "4999      True           True                True        True    True   \n",
            "\n",
            "      CreditCard  \n",
            "0           True  \n",
            "1           True  \n",
            "2           True  \n",
            "3           True  \n",
            "4           True  \n",
            "...          ...  \n",
            "4995        True  \n",
            "4996        True  \n",
            "4997        True  \n",
            "4998        True  \n",
            "4999        True  \n",
            "\n",
            "[5000 rows x 14 columns]\n"
          ]
        }
      ]
    },
    {
      "cell_type": "code",
      "source": [
        "#drop the duplicate values\n",
        "print(df.drop_duplicates())"
      ],
      "metadata": {
        "colab": {
          "base_uri": "https://localhost:8080/"
        },
        "id": "fGRftL3h_u5b",
        "outputId": "83d526e8-d640-4725-f1f4-314d42619d70"
      },
      "execution_count": null,
      "outputs": [
        {
          "output_type": "stream",
          "name": "stdout",
          "text": [
            "        ID  Age  Experience  Income  ZIP Code  Family CCAvg  Education  \\\n",
            "0        1   25           1      49     91108       4  1/60          1   \n",
            "1        2   45          19      34     90089       3  1/50          1   \n",
            "2        3   39          15      11     94720       1  1/00          1   \n",
            "3        4   35           9     100     94112       1  2/70          2   \n",
            "4        5   35           8      45     91330       4  1/00          2   \n",
            "...    ...  ...         ...     ...       ...     ...   ...        ...   \n",
            "4995  4996   29           3      40     92697       1  1/90          3   \n",
            "4996  4997   30           4      15     92037       4  0/40          1   \n",
            "4997  4998   63          39      24     93023       2  0/30          3   \n",
            "4998  4999   65          40      49     90034       3  0/50          2   \n",
            "4999  5000   28           4      83     92612       3  0/80          1   \n",
            "\n",
            "      Mortgage  Personal Loan  Securities Account  CD Account  Online  \\\n",
            "0            0              0                   1           0       0   \n",
            "1            0              0                   1           0       0   \n",
            "2            0              0                   0           0       0   \n",
            "3            0              0                   0           0       0   \n",
            "4            0              0                   0           0       0   \n",
            "...        ...            ...                 ...         ...     ...   \n",
            "4995         0              0                   0           0       1   \n",
            "4996        85              0                   0           0       1   \n",
            "4997         0              0                   0           0       0   \n",
            "4998         0              0                   0           0       1   \n",
            "4999         0              0                   0           0       1   \n",
            "\n",
            "      CreditCard  \n",
            "0              0  \n",
            "1              0  \n",
            "2              0  \n",
            "3              0  \n",
            "4              1  \n",
            "...          ...  \n",
            "4995           0  \n",
            "4996           0  \n",
            "4997           0  \n",
            "4998           0  \n",
            "4999           1  \n",
            "\n",
            "[5000 rows x 14 columns]\n"
          ]
        }
      ]
    },
    {
      "cell_type": "code",
      "source": [
        "#drop the missing values\n",
        "print(df.dropna())"
      ],
      "metadata": {
        "colab": {
          "base_uri": "https://localhost:8080/"
        },
        "id": "LcGOAR7n_dMy",
        "outputId": "72e1dad9-1ffc-4ec4-86b2-8e4a31990d55"
      },
      "execution_count": null,
      "outputs": [
        {
          "output_type": "stream",
          "name": "stdout",
          "text": [
            "        ID  Age  Experience  Income  ZIP Code  Family CCAvg  Education  \\\n",
            "0        1   25           1      49     91108       4  1/60          1   \n",
            "1        2   45          19      34     90089       3  1/50          1   \n",
            "2        3   39          15      11     94720       1  1/00          1   \n",
            "3        4   35           9     100     94112       1  2/70          2   \n",
            "4        5   35           8      45     91330       4  1/00          2   \n",
            "...    ...  ...         ...     ...       ...     ...   ...        ...   \n",
            "4995  4996   29           3      40     92697       1  1/90          3   \n",
            "4996  4997   30           4      15     92037       4  0/40          1   \n",
            "4997  4998   63          39      24     93023       2  0/30          3   \n",
            "4998  4999   65          40      49     90034       3  0/50          2   \n",
            "4999  5000   28           4      83     92612       3  0/80          1   \n",
            "\n",
            "      Mortgage  Personal Loan  Securities Account  CD Account  Online  \\\n",
            "0            0              0                   1           0       0   \n",
            "1            0              0                   1           0       0   \n",
            "2            0              0                   0           0       0   \n",
            "3            0              0                   0           0       0   \n",
            "4            0              0                   0           0       0   \n",
            "...        ...            ...                 ...         ...     ...   \n",
            "4995         0              0                   0           0       1   \n",
            "4996        85              0                   0           0       1   \n",
            "4997         0              0                   0           0       0   \n",
            "4998         0              0                   0           0       1   \n",
            "4999         0              0                   0           0       1   \n",
            "\n",
            "      CreditCard  \n",
            "0              0  \n",
            "1              0  \n",
            "2              0  \n",
            "3              0  \n",
            "4              1  \n",
            "...          ...  \n",
            "4995           0  \n",
            "4996           0  \n",
            "4997           0  \n",
            "4998           0  \n",
            "4999           1  \n",
            "\n",
            "[5000 rows x 14 columns]\n"
          ]
        }
      ]
    }
  ]
}