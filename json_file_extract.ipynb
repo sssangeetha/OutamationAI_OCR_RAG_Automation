{
  "nbformat": 4,
  "nbformat_minor": 0,
  "metadata": {
    "colab": {
      "provenance": [],
      "authorship_tag": "ABX9TyMZHRUNuV8BrtCqOJj43fJo",
      "include_colab_link": true
    },
    "kernelspec": {
      "name": "python3",
      "display_name": "Python 3"
    },
    "language_info": {
      "name": "python"
    }
  },
  "cells": [
    {
      "cell_type": "markdown",
      "metadata": {
        "id": "view-in-github",
        "colab_type": "text"
      },
      "source": [
        "<a href=\"https://colab.research.google.com/github/sssangeetha/OutamationAI_OCR_RAG_Automation/blob/main/json_file_extract.ipynb\" target=\"_parent\"><img src=\"https://colab.research.google.com/assets/colab-badge.svg\" alt=\"Open In Colab\"/></a>"
      ]
    },
    {
      "cell_type": "code",
      "execution_count": null,
      "metadata": {
        "id": "ZWK_i6ouG6lp"
      },
      "outputs": [],
      "source": [
        "import json"
      ]
    },
    {
      "cell_type": "code",
      "source": [
        "with open('sample.json','r') as file:\n",
        "  data=json.load(file)\n",
        "print(data)"
      ],
      "metadata": {
        "colab": {
          "base_uri": "https://localhost:8080/"
        },
        "id": "l5I_P2YPHIgK",
        "outputId": "0130c71b-c0d7-49c6-a1c7-b6dd9cf5eaf7"
      },
      "execution_count": null,
      "outputs": [
        {
          "output_type": "stream",
          "name": "stdout",
          "text": [
            "[{'customer_id': 101, 'name': 'Alice Johnson', 'email': 'alice@example.com', 'orders': [{'order_id': 5001, 'date': '2024-02-01', 'total': 120.5, 'items': [{'product': 'Laptop', 'price': 1000.0, 'quantity': 1}, {'product': 'Mouse', 'price': 20.5, 'quantity': 1}], 'payment': {'method': 'Credit Card', 'status': 'Completed'}}]}, {'customer_id': 102, 'name': 'Bob Williams', 'email': 'bob@example.com', 'orders': [{'order_id': 5002, 'date': '2024-02-03', 'total': 250.0, 'items': [{'product': 'Smartphone', 'price': 700.0, 'quantity': 1}, {'product': 'Charger', 'price': 50.0, 'quantity': 2}], 'payment': {'method': 'PayPal', 'status': 'Pending'}}, {'order_id': 5003, 'date': '2024-02-07', 'total': 75.0, 'items': [{'product': 'Headphones', 'price': 75.0, 'quantity': 1}], 'payment': {'method': 'Credit Card', 'status': 'Completed'}}]}]\n"
          ]
        }
      ]
    },
    {
      "cell_type": "code",
      "source": [
        "for customer in data:\n",
        "  for order in customer['orders']:\n",
        "    print(f\"Order id: {order['order_id']}, Total Amount: ${order['total']}\")\n"
      ],
      "metadata": {
        "colab": {
          "base_uri": "https://localhost:8080/"
        },
        "id": "0PYJwU4nIfs-",
        "outputId": "6c2eb4cf-1377-426b-c690-d1d61eae869e"
      },
      "execution_count": null,
      "outputs": [
        {
          "output_type": "stream",
          "name": "stdout",
          "text": [
            "Order id: 5001, Total Amount: $120.5\n",
            "Order id: 5002, Total Amount: $250.0\n",
            "Order id: 5003, Total Amount: $75.0\n"
          ]
        }
      ]
    },
    {
      "cell_type": "code",
      "source": [
        "import pandas as pd\n",
        "import json\n",
        "\n",
        "# Load JSON data\n",
        "with open('sample.json', 'r') as file:\n",
        "    data = json.load(file)\n",
        "\n",
        "# Normalize JSON structure\n",
        "normalized_data = pd.json_normalize(data, record_path='orders', meta=['customer_id', 'name', 'email'])\n",
        "display(normalized_data.head())"
      ],
      "metadata": {
        "colab": {
          "base_uri": "https://localhost:8080/",
          "height": 411
        },
        "id": "6PgsDbEjSrMf",
        "outputId": "9310689d-96a5-4195-ccc5-139de4f3b574",
        "collapsed": true
      },
      "execution_count": null,
      "outputs": [
        {
          "output_type": "error",
          "ename": "ImportError",
          "evalue": "cannot import name 'json_normalize' from 'pandas.io.json' (/usr/local/lib/python3.12/dist-packages/pandas/io/json/__init__.py)",
          "traceback": [
            "\u001b[0;31m---------------------------------------------------------------------------\u001b[0m",
            "\u001b[0;31mImportError\u001b[0m                               Traceback (most recent call last)",
            "\u001b[0;32m/tmp/ipython-input-2908999427.py\u001b[0m in \u001b[0;36m<cell line: 0>\u001b[0;34m()\u001b[0m\n\u001b[1;32m      1\u001b[0m \u001b[0;32mimport\u001b[0m \u001b[0mpandas\u001b[0m \u001b[0;32mas\u001b[0m \u001b[0mpd\u001b[0m\u001b[0;34m\u001b[0m\u001b[0;34m\u001b[0m\u001b[0m\n\u001b[0;32m----> 2\u001b[0;31m \u001b[0;32mfrom\u001b[0m \u001b[0mpandas\u001b[0m\u001b[0;34m.\u001b[0m\u001b[0mio\u001b[0m\u001b[0;34m.\u001b[0m\u001b[0mjson\u001b[0m \u001b[0;32mimport\u001b[0m \u001b[0mjson_normalize\u001b[0m\u001b[0;34m\u001b[0m\u001b[0;34m\u001b[0m\u001b[0m\n\u001b[0m\u001b[1;32m      3\u001b[0m \u001b[0;34m\u001b[0m\u001b[0m\n\u001b[1;32m      4\u001b[0m \u001b[0;31m# Load JSON data\u001b[0m\u001b[0;34m\u001b[0m\u001b[0;34m\u001b[0m\u001b[0m\n\u001b[1;32m      5\u001b[0m \u001b[0;32mwith\u001b[0m \u001b[0mopen\u001b[0m\u001b[0;34m(\u001b[0m\u001b[0;34m'sample.json'\u001b[0m\u001b[0;34m,\u001b[0m \u001b[0;34m'r'\u001b[0m\u001b[0;34m)\u001b[0m \u001b[0;32mas\u001b[0m \u001b[0mfile\u001b[0m\u001b[0;34m:\u001b[0m\u001b[0;34m\u001b[0m\u001b[0;34m\u001b[0m\u001b[0m\n",
            "\u001b[0;31mImportError\u001b[0m: cannot import name 'json_normalize' from 'pandas.io.json' (/usr/local/lib/python3.12/dist-packages/pandas/io/json/__init__.py)",
            "",
            "\u001b[0;31m---------------------------------------------------------------------------\u001b[0;32m\nNOTE: If your import is failing due to a missing package, you can\nmanually install dependencies using either !pip or !apt.\n\nTo view examples of installing some common dependencies, click the\n\"Open Examples\" button below.\n\u001b[0;31m---------------------------------------------------------------------------\u001b[0m\n"
          ],
          "errorDetails": {
            "actions": [
              {
                "action": "open_url",
                "actionText": "Open Examples",
                "url": "/notebooks/snippets/importing_libraries.ipynb"
              }
            ]
          }
        }
      ]
    }
  ]
}