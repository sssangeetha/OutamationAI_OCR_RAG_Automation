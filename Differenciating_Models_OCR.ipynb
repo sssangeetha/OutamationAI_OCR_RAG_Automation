{
  "nbformat": 4,
  "nbformat_minor": 0,
  "metadata": {
    "colab": {
      "provenance": [],
      "authorship_tag": "ABX9TyPfY/qDX5zfiEfB1WuV0qf6",
      "include_colab_link": true
    },
    "kernelspec": {
      "name": "python3",
      "display_name": "Python 3"
    },
    "language_info": {
      "name": "python"
    }
  },
  "cells": [
    {
      "cell_type": "markdown",
      "metadata": {
        "id": "view-in-github",
        "colab_type": "text"
      },
      "source": [
        "<a href=\"https://colab.research.google.com/github/sssangeetha/OutamationAI_OCR_RAG_Automation/blob/main/Differenciating_Models_OCR.ipynb\" target=\"_parent\"><img src=\"https://colab.research.google.com/assets/colab-badge.svg\" alt=\"Open In Colab\"/></a>"
      ]
    },
    {
      "cell_type": "code",
      "execution_count": 1,
      "metadata": {
        "colab": {
          "base_uri": "https://localhost:8080/"
        },
        "id": "amzatucqTXwe",
        "outputId": "1a267cce-b09a-4932-ab1c-6051f8d8f482"
      },
      "outputs": [
        {
          "output_type": "stream",
          "name": "stdout",
          "text": [
            "W: Skipping acquire of configured file 'main/source/Sources' as repository 'https://r2u.stat.illinois.edu/ubuntu jammy InRelease' does not seem to provide it (sources.list entry misspelt?)\n",
            "\u001b[2K   \u001b[90m━━━━━━━━━━━━━━━━━━━━━━━━━━━━━━━━━━━━━━━━\u001b[0m \u001b[32m24.1/24.1 MB\u001b[0m \u001b[31m96.5 MB/s\u001b[0m eta \u001b[36m0:00:00\u001b[0m\n",
            "\u001b[2K     \u001b[90m━━━━━━━━━━━━━━━━━━━━━━━━━━━━━━━━━━━━━━━━\u001b[0m \u001b[32m80.5/80.5 kB\u001b[0m \u001b[31m3.6 MB/s\u001b[0m eta \u001b[36m0:00:00\u001b[0m\n",
            "\u001b[2K     \u001b[90m━━━━━━━━━━━━━━━━━━━━━━━━━━━━━━━━━━━━━━━━\u001b[0m \u001b[32m40.4/40.4 kB\u001b[0m \u001b[31m2.4 MB/s\u001b[0m eta \u001b[36m0:00:00\u001b[0m\n",
            "\u001b[2K     \u001b[90m━━━━━━━━━━━━━━━━━━━━━━━━━━━━━━━━━━━━━━━━\u001b[0m \u001b[32m48.5/48.5 kB\u001b[0m \u001b[31m3.3 MB/s\u001b[0m eta \u001b[36m0:00:00\u001b[0m\n",
            "\u001b[2K   \u001b[90m━━━━━━━━━━━━━━━━━━━━━━━━━━━━━━━━━━━━━━━━\u001b[0m \u001b[32m125.9/125.9 MB\u001b[0m \u001b[31m7.0 MB/s\u001b[0m eta \u001b[36m0:00:00\u001b[0m\n",
            "\u001b[2K   \u001b[90m━━━━━━━━━━━━━━━━━━━━━━━━━━━━━━━━━━━━━━━━\u001b[0m \u001b[32m65.5/65.5 kB\u001b[0m \u001b[31m4.1 MB/s\u001b[0m eta \u001b[36m0:00:00\u001b[0m\n",
            "\u001b[2K   \u001b[90m━━━━━━━━━━━━━━━━━━━━━━━━━━━━━━━━━━━━━━━━\u001b[0m \u001b[32m76.0/76.0 kB\u001b[0m \u001b[31m5.3 MB/s\u001b[0m eta \u001b[36m0:00:00\u001b[0m\n",
            "\u001b[2K   \u001b[90m━━━━━━━━━━━━━━━━━━━━━━━━━━━━━━━━━━━━━━━━\u001b[0m \u001b[32m1.7/1.7 MB\u001b[0m \u001b[31m70.3 MB/s\u001b[0m eta \u001b[36m0:00:00\u001b[0m\n",
            "\u001b[2K   \u001b[90m━━━━━━━━━━━━━━━━━━━━━━━━━━━━━━━━━━━━━━━━\u001b[0m \u001b[32m767.5/767.5 kB\u001b[0m \u001b[31m42.0 MB/s\u001b[0m eta \u001b[36m0:00:00\u001b[0m\n",
            "\u001b[2K   \u001b[90m━━━━━━━━━━━━━━━━━━━━━━━━━━━━━━━━━━━━━━━━\u001b[0m \u001b[32m68.7/68.7 MB\u001b[0m \u001b[31m13.4 MB/s\u001b[0m eta \u001b[36m0:00:00\u001b[0m\n",
            "\u001b[2K   \u001b[90m━━━━━━━━━━━━━━━━━━━━━━━━━━━━━━━━━━━━━━━━\u001b[0m \u001b[32m63.0/63.0 kB\u001b[0m \u001b[31m3.5 MB/s\u001b[0m eta \u001b[36m0:00:00\u001b[0m\n",
            "\u001b[2K   \u001b[90m━━━━━━━━━━━━━━━━━━━━━━━━━━━━━━━━━━━━━━━━\u001b[0m \u001b[32m5.9/5.9 MB\u001b[0m \u001b[31m110.6 MB/s\u001b[0m eta \u001b[36m0:00:00\u001b[0m\n",
            "\u001b[2K   \u001b[90m━━━━━━━━━━━━━━━━━━━━━━━━━━━━━━━━━━━━━━━━\u001b[0m \u001b[32m2.8/2.8 MB\u001b[0m \u001b[31m71.4 MB/s\u001b[0m eta \u001b[36m0:00:00\u001b[0m\n",
            "\u001b[2K   \u001b[90m━━━━━━━━━━━━━━━━━━━━━━━━━━━━━━━━━━━━━━━━\u001b[0m \u001b[32m963.8/963.8 kB\u001b[0m \u001b[31m40.9 MB/s\u001b[0m eta \u001b[36m0:00:00\u001b[0m\n",
            "\u001b[2K   \u001b[90m━━━━━━━━━━━━━━━━━━━━━━━━━━━━━━━━━━━━━━━━\u001b[0m \u001b[32m119.7/119.7 kB\u001b[0m \u001b[31m8.6 MB/s\u001b[0m eta \u001b[36m0:00:00\u001b[0m\n",
            "\u001b[2K   \u001b[90m━━━━━━━━━━━━━━━━━━━━━━━━━━━━━━━━━━━━━━━━\u001b[0m \u001b[32m57.4/57.4 kB\u001b[0m \u001b[31m3.9 MB/s\u001b[0m eta \u001b[36m0:00:00\u001b[0m\n",
            "\u001b[2K   \u001b[90m━━━━━━━━━━━━━━━━━━━━━━━━━━━━━━━━━━━━━━━━\u001b[0m \u001b[32m753.1/753.1 kB\u001b[0m \u001b[31m40.5 MB/s\u001b[0m eta \u001b[36m0:00:00\u001b[0m\n",
            "\u001b[2K   \u001b[90m━━━━━━━━━━━━━━━━━━━━━━━━━━━━━━━━━━━━━━━━\u001b[0m \u001b[32m352.6/352.6 kB\u001b[0m \u001b[31m21.6 MB/s\u001b[0m eta \u001b[36m0:00:00\u001b[0m\n",
            "\u001b[2K   \u001b[90m━━━━━━━━━━━━━━━━━━━━━━━━━━━━━━━━━━━━━━━━\u001b[0m \u001b[32m2.3/2.3 MB\u001b[0m \u001b[31m78.1 MB/s\u001b[0m eta \u001b[36m0:00:00\u001b[0m\n",
            "\u001b[2K   \u001b[90m━━━━━━━━━━━━━━━━━━━━━━━━━━━━━━━━━━━━━━━━\u001b[0m \u001b[32m2.9/2.9 MB\u001b[0m \u001b[31m28.2 MB/s\u001b[0m eta \u001b[36m0:00:00\u001b[0m\n",
            "\u001b[2K   \u001b[90m━━━━━━━━━━━━━━━━━━━━━━━━━━━━━━━━━━━━━━━━\u001b[0m \u001b[32m180.7/180.7 kB\u001b[0m \u001b[31m10.6 MB/s\u001b[0m eta \u001b[36m0:00:00\u001b[0m\n",
            "\u001b[2K   \u001b[90m━━━━━━━━━━━━━━━━━━━━━━━━━━━━━━━━━━━━━━━━\u001b[0m \u001b[32m292.1/292.1 kB\u001b[0m \u001b[31m12.2 MB/s\u001b[0m eta \u001b[36m0:00:00\u001b[0m\n",
            "\u001b[?25h"
          ]
        }
      ],
      "source": [
        "# ---- Install (Colab) ----\n",
        "!apt-get -qq update && apt-get -qq install -y tesseract-ocr\n",
        "!pip -q install pymupdf opencv-python pytesseract\n",
        "!pip -q install \"paddlepaddle==2.6.1\" paddleocr\n",
        "!pip -q install easyocr\n",
        "\n",
        "# ---- Imports ----\n",
        "import fitz, cv2, json, pytesseract, numpy as np, os\n",
        "from paddleocr import PaddleOCR\n",
        "import easyocr\n",
        "from google.colab import files\n",
        "from pathlib import Path\n",
        "\n",
        "# (Windows users would need pytesseract.pytesseract.tesseract_cmd, not needed on Colab)\n"
      ]
    },
    {
      "cell_type": "code",
      "source": [
        "# ---- Upload your PDF (if not already in the runtime) ----\n",
        "# files.upload()\n",
        "\n",
        "PDF_PATH = \"LenderFeesWorksheetNew (2).pdf\"  # rename if needed\n",
        "\n",
        "doc = fitz.open(PDF_PATH)\n",
        "render_scale = 2.0\n",
        "images = []  # [(page_index, rgb_image)]\n",
        "for i, page in enumerate(doc):\n",
        "    pix = page.get_pixmap(matrix=fitz.Matrix(render_scale, render_scale), alpha=False)\n",
        "    rgb = np.frombuffer(pix.samples, dtype=np.uint8).reshape(pix.height, pix.width, 3)\n",
        "    images.append((i, rgb))\n",
        "len(images)\n"
      ],
      "metadata": {
        "colab": {
          "base_uri": "https://localhost:8080/"
        },
        "id": "YYo2eJn7VGjK",
        "outputId": "7077017b-96c0-4f89-db00-6e4553b9ba60"
      },
      "execution_count": 3,
      "outputs": [
        {
          "output_type": "execute_result",
          "data": {
            "text/plain": [
              "1"
            ]
          },
          "metadata": {},
          "execution_count": 3
        }
      ]
    },
    {
      "cell_type": "code",
      "source": [
        "out_dir = Path(\"ocr_outputs\"); out_dir.mkdir(exist_ok=True)\n",
        "\n",
        "tesseract_results = []\n",
        "for i, rgb in images:\n",
        "    bgr = cv2.cvtColor(rgb, cv2.COLOR_RGB2BGR)\n",
        "    # data with word-level boxes\n",
        "    data = pytesseract.image_to_data(bgr, output_type=pytesseract.Output.DICT)\n",
        "    # raw text (line-ish)\n",
        "    raw = pytesseract.image_to_string(bgr)\n",
        "\n",
        "    # draw boxes\n",
        "    vis = bgr.copy()\n",
        "    for x, y, w, h, conf, txt in zip(data[\"left\"], data[\"top\"], data[\"width\"], data[\"height\"], data[\"conf\"], data[\"text\"]):\n",
        "        if txt.strip() and conf != '-1':\n",
        "            cv2.rectangle(vis, (x,y), (x+w, y+h), (0,255,0), 2)\n",
        "\n",
        "    # save\n",
        "    cv2.imwrite(str(out_dir/f\"tess_p{i}.png\"), vis)\n",
        "    Path(out_dir/f\"tess_p{i}.txt\").write_text(raw)\n",
        "\n",
        "    # collect JSON\n",
        "    page_items = []\n",
        "    for j in range(len(data[\"text\"])):\n",
        "        txt = data[\"text\"][j].strip()\n",
        "        if txt:\n",
        "            page_items.append({\n",
        "                \"text\": txt,\n",
        "                \"bbox\": [int(data[\"left\"][j]), int(data[\"top\"][j]), int(data[\"left\"][j]+data[\"width\"][j]), int(data[\"top\"][j]+data[\"height\"][j])],\n",
        "                \"conf\": float(data[\"conf\"][j]) if data[\"conf\"][j] != '-1' else None\n",
        "            })\n",
        "    tesseract_results.append({\"page\": i, \"raw_text\": raw, \"items\": page_items})\n",
        "\n",
        "Path(out_dir/\"tesseract.json\").write_text(json.dumps(tesseract_results, indent=2))\n",
        "print(\"Tesseract done → images & JSON saved under\", out_dir)\n"
      ],
      "metadata": {
        "colab": {
          "base_uri": "https://localhost:8080/"
        },
        "id": "vb3-9r8kVQOa",
        "outputId": "3cfb583a-159c-452f-cdc2-ae67eb47a6f5"
      },
      "execution_count": 4,
      "outputs": [
        {
          "output_type": "stream",
          "name": "stdout",
          "text": [
            "Tesseract done → images & JSON saved under ocr_outputs\n"
          ]
        }
      ]
    },
    {
      "cell_type": "code",
      "metadata": {
        "colab": {
          "base_uri": "https://localhost:8080/"
        },
        "id": "650ca7d9",
        "outputId": "4fde4b57-81f6-4b2c-a763-47dfb1191695"
      },
      "source": [
        "# Initialize EasyOCR reader\n",
        "reader = easyocr.Reader(['en']) # 'en' for English\n",
        "\n",
        "easyocr_results = []\n",
        "for i, rgb in images:\n",
        "    # EasyOCR expects RGB\n",
        "    result = reader.readtext(rgb) # list of [ [bbox, text, conf], ... ]\n",
        "\n",
        "    # draw boxes\n",
        "    vis = cv2.cvtColor(rgb, cv2.COLOR_RGB2BGR).copy()\n",
        "    page_items = []\n",
        "\n",
        "    for (bbox, text, conf) in result:\n",
        "        bbox_int = np.array(bbox, dtype=np.int32)\n",
        "        cv2.polylines(vis, [bbox_int], isClosed=True, color=(0, 0, 255), thickness=2)\n",
        "\n",
        "        x0, y0 = bbox_int[0][0], bbox_int[0][1]\n",
        "        x1, y1 = bbox_int[2][0], bbox_int[2][1]\n",
        "\n",
        "        page_items.append({\"text\": text, \"bbox\": [int(x0), int(y0), int(x1), int(y1)], \"conf\": float(conf)})\n",
        "\n",
        "    # raw text (joined by lines)\n",
        "    raw = \"\\n\".join([it[\"text\"] for it in page_items])\n",
        "\n",
        "    cv2.imwrite(str(out_dir/f\"easyocr_p{i}.png\"), vis)\n",
        "    Path(out_dir/f\"easyocr_p{i}.txt\").write_text(raw)\n",
        "    easyocr_results.append({\"page\": i, \"raw_text\": raw, \"items\": page_items})\n",
        "\n",
        "Path(out_dir/\"easyocr.json\").write_text(json.dumps(easyocr_results, indent=2))\n",
        "print(\"EasyOCR done → images & JSON saved under\", out_dir)"
      ],
      "execution_count": 7,
      "outputs": [
        {
          "output_type": "stream",
          "name": "stderr",
          "text": [
            "WARNING:easyocr.easyocr:Neither CUDA nor MPS are available - defaulting to CPU. Note: This module is much faster with a GPU.\n",
            "WARNING:easyocr.easyocr:Downloading detection model, please wait. This may take several minutes depending upon your network connection.\n"
          ]
        },
        {
          "output_type": "stream",
          "name": "stdout",
          "text": [
            "Progress: |██████████████████████████████████████████████████| 100.0% Complete"
          ]
        },
        {
          "output_type": "stream",
          "name": "stderr",
          "text": [
            "WARNING:easyocr.easyocr:Downloading recognition model, please wait. This may take several minutes depending upon your network connection.\n"
          ]
        },
        {
          "output_type": "stream",
          "name": "stdout",
          "text": [
            "Progress: |██████████████████████████████████████████████████| 100.0% Complete"
          ]
        },
        {
          "output_type": "stream",
          "name": "stderr",
          "text": [
            "/usr/local/lib/python3.12/dist-packages/torch/utils/data/dataloader.py:666: UserWarning: 'pin_memory' argument is set as true but no accelerator is found, then device pinned memory won't be used.\n",
            "  warnings.warn(warn_msg)\n"
          ]
        },
        {
          "output_type": "stream",
          "name": "stdout",
          "text": [
            "EasyOCR done → images & JSON saved under ocr_outputs\n"
          ]
        }
      ]
    }
  ]
}