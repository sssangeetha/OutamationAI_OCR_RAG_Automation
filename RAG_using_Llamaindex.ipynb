{
  "nbformat": 4,
  "nbformat_minor": 0,
  "metadata": {
    "colab": {
      "provenance": [],
      "authorship_tag": "ABX9TyOVvUxgjLEbg7nac4nm7rAE",
      "include_colab_link": true
    },
    "kernelspec": {
      "name": "python3",
      "display_name": "Python 3"
    },
    "language_info": {
      "name": "python"
    }
  },
  "cells": [
    {
      "cell_type": "markdown",
      "metadata": {
        "id": "view-in-github",
        "colab_type": "text"
      },
      "source": [
        "<a href=\"https://colab.research.google.com/github/sssangeetha/OutamationAI_OCR_RAG_Automation/blob/main/RAG_using_Llamaindex.ipynb\" target=\"_parent\"><img src=\"https://colab.research.google.com/assets/colab-badge.svg\" alt=\"Open In Colab\"/></a>"
      ]
    },
    {
      "cell_type": "code",
      "execution_count": 5,
      "metadata": {
        "id": "-cWKADLktQp_"
      },
      "outputs": [],
      "source": [
        "import google.generativeai as genai\n",
        "\n",
        "# Configure your Gemini API key\n",
        "genai.configure(api_key=\"your-key\")"
      ]
    },
    {
      "cell_type": "code",
      "source": [
        "def classify_query_llm(query: str) -> str:\n",
        "    \"\"\"\n",
        "    Classify a user query into one of the known document types\n",
        "    using Google's Gemini model.\n",
        "    \"\"\"\n",
        "\n",
        "    # List of known document types\n",
        "    doc_types = [\"pay_stub\", \"loan_form\", \"resume\", \"contract\", \"w2\", \"unknown\"]\n",
        "\n",
        "    # Prompt to guide the LLM\n",
        "    prompt = f\"\"\"\n",
        "    You are a document classification assistant.\n",
        "    Given the user query below, classify which type of document it refers to.\n",
        "\n",
        "    Possible document types: {doc_types}\n",
        "\n",
        "    Query: \"{query}\"\n",
        "\n",
        "    Respond with only one label from the list above — do not explain.\n",
        "    \"\"\"\n",
        "\n",
        "    # Run the LLM\n",
        "    model = genai.GenerativeModel(\"gemini-1.5-flash\")  # lightweight and fast for classification\n",
        "    response = model.generate_content(prompt)\n",
        "\n",
        "    # Extract and clean result\n",
        "    predicted_doc_type = response.text.strip().lower()\n",
        "\n",
        "    # Validate output (fallback to 'unknown' if invalid)\n",
        "    if predicted_doc_type not in doc_types:\n",
        "        predicted_doc_type = \"unknown\"\n",
        "\n",
        "    return predicted_doc_type\n"
      ],
      "metadata": {
        "id": "ND7P5ZI8zCn6"
      },
      "execution_count": 8,
      "outputs": []
    },
    {
      "cell_type": "code",
      "source": [
        "\n",
        "\n",
        "# -----------------------------------------\n",
        "# STEP 2: Sample PDF metadata store\n",
        "# -----------------------------------------\n",
        "pdf_metadata_store = [\n",
        "    {\n",
        "        \"file_id\": \"1\",\n",
        "        \"filename\": \"PayStatement_Nov_2024.pdf\",\n",
        "        \"year\": \"2024\",\n",
        "        \"text\": \"PAY DATE: Nov 1, 2024\\nNET PAY $1,201.21\\nYEAR TO DATE...\",\n",
        "    },\n",
        "    {\n",
        "        \"file_id\": \"2\",\n",
        "        \"filename\": \"Loan_Agreement_2023.pdf\",\n",
        "        \"year\": \"2023\",\n",
        "        \"text\": \"This loan agreement is made between the borrower and lender...\",\n",
        "    },\n",
        "    {\n",
        "        \"file_id\": \"3\",\n",
        "        \"filename\": \"Resume_Sangeetha.pdf\",\n",
        "        \"year\": \"2025\",\n",
        "        \"text\": \"Sri Sai Sangeetha Jannapureddy\\nSoftware Engineer with experience in React.js and Spring Boot...\",\n",
        "    },\n",
        "]\n",
        "\n",
        "# -----------------------------------------\n",
        "# STEP 3: Define classify_doc_type_llm()\n",
        "# -----------------------------------------\n",
        "def classify_doc_type_llm(page_text: str) -> str:\n",
        "    \"\"\"\n",
        "    Classify a page into one of the known document types using Gemini.\n",
        "    \"\"\"\n",
        "    doc_types = [\"pay_stub\", \"loan_form\", \"resume\", \"contract\", \"w2\", \"unknown\"]\n",
        "\n",
        "    prompt = f\"\"\"\n",
        "    You are a document classifier. Read the page content below and\n",
        "    determine which type of document it belongs to.\n",
        "\n",
        "    Possible document types: {doc_types}\n",
        "\n",
        "    Page text:\n",
        "    {page_text[:700]}  # limit to first few characters to save tokens\n",
        "\n",
        "    Respond with only one label from the list above — do not explain.\n",
        "    \"\"\"\n",
        "\n",
        "    model = genai.GenerativeModel(\"gemini-2.5-flash\")\n",
        "    response = model.generate_content(prompt)\n",
        "    predicted_type = response.text.strip().lower()\n",
        "\n",
        "    if predicted_type not in doc_types:\n",
        "        predicted_type = \"unknown\"\n",
        "\n",
        "    return predicted_type\n",
        "\n",
        "\n",
        "# -----------------------------------------\n",
        "# STEP 4: Classify each page and update metadata\n",
        "# -----------------------------------------\n",
        "for page in pdf_metadata_store:\n",
        "    page[\"doc_type\"] = classify_doc_type_llm(page[\"text\"])\n",
        "\n",
        "print(\"✅ Document types assigned successfully!\")\n",
        "for p in pdf_metadata_store:\n",
        "    print(f\"{p['filename']} → {p['doc_type']}\")\n",
        "\n",
        "\n",
        "# -----------------------------------------\n",
        "# STEP 5: Filter by predicted query doc_type\n",
        "# -----------------------------------------\n",
        "predicted_doc_type = \"pay_stub\"   # this normally comes from classify_query_llm()\n",
        "\n",
        "matched_documents = [\n",
        "    page for page in pdf_metadata_store if page[\"doc_type\"] == predicted_doc_type\n",
        "]\n",
        "\n",
        "\n",
        "# -----------------------------------------\n",
        "# STEP 6: Optional fallback search (if nothing matched)\n",
        "# -----------------------------------------\n",
        "if not matched_documents:\n",
        "    keywords = [\"salary\", \"net pay\", \"income\", \"earnings\", \"compensation\"]\n",
        "    matched_documents = [\n",
        "        page for page in pdf_metadata_store\n",
        "        if any(keyword in page[\"text\"].lower() for keyword in keywords)\n",
        "    ]\n",
        "\n",
        "\n",
        "# -----------------------------------------\n",
        "# STEP 7: Final result\n",
        "# -----------------------------------------\n",
        "final_output = {\n",
        "    \"query\": \"What is my monthly salary?\",\n",
        "    \"predicted_doc_type\": predicted_doc_type,\n",
        "    \"matched_documents\": matched_documents\n",
        "}\n",
        "\n",
        "print(\"\\n🔍 Final Routing Result:\\n\", final_output)\n"
      ],
      "metadata": {
        "colab": {
          "base_uri": "https://localhost:8080/",
          "height": 162
        },
        "id": "-4auJ8d-taMn",
        "outputId": "4288f20d-1460-4f0c-fdcf-224c4efcb42b"
      },
      "execution_count": 11,
      "outputs": [
        {
          "output_type": "stream",
          "name": "stdout",
          "text": [
            "✅ Document types assigned successfully!\n",
            "PayStatement_Nov_2024.pdf → pay_stub\n",
            "Loan_Agreement_2023.pdf → loan_form\n",
            "Resume_Sangeetha.pdf → resume\n",
            "\n",
            "🔍 Final Routing Result:\n",
            " {'query': 'What is my monthly salary?', 'predicted_doc_type': 'pay_stub', 'matched_documents': [{'file_id': '1', 'filename': 'PayStatement_Nov_2024.pdf', 'year': '2024', 'text': 'PAY DATE: Nov 1, 2024\\nNET PAY $1,201.21\\nYEAR TO DATE...', 'doc_type': 'pay_stub'}]}\n"
          ]
        }
      ]
    },
    {
      "cell_type": "code",
      "source": [],
      "metadata": {
        "id": "bKU20lp4zAwa"
      },
      "execution_count": null,
      "outputs": []
    },
    {
      "cell_type": "code",
      "source": [],
      "metadata": {
        "id": "EuKWDdHnzBZ-"
      },
      "execution_count": null,
      "outputs": []
    }
  ]
}