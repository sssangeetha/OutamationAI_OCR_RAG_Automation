{
  "nbformat": 4,
  "nbformat_minor": 0,
  "metadata": {
    "colab": {
      "provenance": [],
      "authorship_tag": "ABX9TyPGpSlFDvKDcdvrkgYQ0bj2",
      "include_colab_link": true
    },
    "kernelspec": {
      "name": "python3",
      "display_name": "Python 3"
    },
    "language_info": {
      "name": "python"
    }
  },
  "cells": [
    {
      "cell_type": "markdown",
      "metadata": {
        "id": "view-in-github",
        "colab_type": "text"
      },
      "source": [
        "<a href=\"https://colab.research.google.com/github/sssangeetha/OutamationAI_OCR_RAG_Automation/blob/main/Extract_Text_and_Bounding_Boxes.ipynb\" target=\"_parent\"><img src=\"https://colab.research.google.com/assets/colab-badge.svg\" alt=\"Open In Colab\"/></a>"
      ]
    },
    {
      "cell_type": "code",
      "execution_count": 1,
      "metadata": {
        "colab": {
          "base_uri": "https://localhost:8080/"
        },
        "id": "F8x0h9WWFnJk",
        "outputId": "b470e8f2-8652-4145-c045-ed4214d7c85b"
      },
      "outputs": [
        {
          "output_type": "stream",
          "name": "stdout",
          "text": [
            "Collecting pymupdf\n",
            "  Downloading pymupdf-1.26.5-cp39-abi3-manylinux_2_28_x86_64.whl.metadata (3.4 kB)\n",
            "Downloading pymupdf-1.26.5-cp39-abi3-manylinux_2_28_x86_64.whl (24.1 MB)\n",
            "\u001b[2K   \u001b[90m━━━━━━━━━━━━━━━━━━━━━━━━━━━━━━━━━━━━━━━━\u001b[0m \u001b[32m24.1/24.1 MB\u001b[0m \u001b[31m77.4 MB/s\u001b[0m eta \u001b[36m0:00:00\u001b[0m\n",
            "\u001b[?25hInstalling collected packages: pymupdf\n",
            "Successfully installed pymupdf-1.26.5\n"
          ]
        }
      ],
      "source": [
        "!pip install pymupdf"
      ]
    },
    {
      "cell_type": "code",
      "source": [
        "import fitz\n",
        "# Load the PDF\n",
        "doc = fitz.open(\"sample_resume.pdf\")\n",
        "\n",
        "# Print the number of pages\n",
        "print(f\"Total Pages: {doc.page_count}\")\n",
        "\n",
        "# Print metadata\n",
        "print(\"PDF Metadata:\")\n",
        "\n",
        "doc.metadata\n"
      ],
      "metadata": {
        "colab": {
          "base_uri": "https://localhost:8080/"
        },
        "id": "p1rPcjBVGAFB",
        "outputId": "48794f49-4f50-481e-e552-b20968231535"
      },
      "execution_count": 3,
      "outputs": [
        {
          "output_type": "stream",
          "name": "stdout",
          "text": [
            "Total Pages: 1\n",
            "PDF Metadata:\n"
          ]
        },
        {
          "output_type": "execute_result",
          "data": {
            "text/plain": [
              "{'format': 'PDF 1.5',\n",
              " 'title': 'Computer_Science_Resume.docx',\n",
              " 'author': 'Chai Baweja',\n",
              " 'subject': '',\n",
              " 'keywords': 'resume, cv, latest',\n",
              " 'creator': 'Chai Extern',\n",
              " 'producer': '',\n",
              " 'creationDate': \"D:20240512060000+02'00'\",\n",
              " 'modDate': \"D:20240619060000+02'00'\",\n",
              " 'trapped': '',\n",
              " 'encryption': None}"
            ]
          },
          "metadata": {},
          "execution_count": 3
        }
      ]
    },
    {
      "cell_type": "code",
      "source": [
        "# Open the first page of the document\n",
        "page = doc[0]\n",
        "\n",
        "# Extract text as a plain string\n",
        "text = page.get_text(\"text\")\n",
        "\n",
        "# Print the extracted text\n",
        "print(text)"
      ],
      "metadata": {
        "colab": {
          "base_uri": "https://localhost:8080/"
        },
        "id": "f0o5aQ1iGh2Y",
        "outputId": "a7bb1c11-4cf8-4060-a7dc-186cca260029"
      },
      "execution_count": 4,
      "outputs": [
        {
          "output_type": "stream",
          "name": "stdout",
          "text": [
            "YOUR NAME\n",
            "123-456-7890 – Hammond, LA – github.com/yourname – linkedin.com/yourname\n",
            "SUMMARY OF QUALIFICATIONS\n",
            "▪\n",
            "Project management and consulting experience primarily focused upon nonprofit projects, requiring quick\n",
            "turnarounds and extensive troubleshooting\n",
            "▪\n",
            "Proven skills in planning, strategy development, and knowledge of customer and client business processes\n",
            "▪\n",
            "Excellent team-building and management skills with demonstrated success\n",
            "EDUCATION\n",
            "Southeastern Louisiana University (SLU)\n",
            "Hammond, LA\n",
            "Bachelor of Science in Computer Science\n",
            "May 2021\n",
            "Thesis: Computerized Enrollment and Student Information Systems\n",
            "▪\n",
            "Major GPA: 3.84/4.00\n",
            "▪\n",
            "Taylor Opportunity Program for Students Scholarship\n",
            "TECHNICAL SKILLS\n",
            "▪\n",
            "Programming Languages:  Visual Basic, SQL, C, C++, Java\n",
            "▪\n",
            "Operating Systems:  Windows NT/ 2000/ XP/ Vista, Linux, Unix\n",
            "▪\n",
            "Database:  SQL Server, Microsoft (MS) Access, Oracle\n",
            "▪\n",
            "Software:  JCL, SQL, DB2, MS Visio, MS Excel, MS FrontPage, MS Word\n",
            "RELATED EXPERIENCE\n",
            "Blog Writer\n",
            "Hammond, LA\n",
            "SLU Computer Science Department\n",
            "August 2020 – Present\n",
            "▪\n",
            "Designed a student portal website that allows access to blogs, research articles, and inter-office communication\n",
            "▪\n",
            "Wrote and published 5+ blog posts highlighting current industry trends, meeting monthly deadlines\n",
            "▪\n",
            "Interviewed faculty, staff, and employers ambitiously to generate content for blog posts and other relevant articles\n",
            "Financial Network Services, Pty Ltd.\n",
            "Sydney, Australia\n",
            "Unix Administrator Assistant\n",
            "June – August 2019\n",
            "▪\n",
            "Operated Unix Hp/Ux 11i in the transferring of files between development and testing regions\n",
            "▪\n",
            "Led team of 4 to configure notebooks and install multilingual software for 6 overseas consultants\n",
            "▪\n",
            "Created user accounts and set permissions and passwords with UNIX - SCO\n",
            "PROJECT EXPERIENCE\n",
            "Tangi Humane Society\n",
            "Hammond, LA\n",
            "Web Programming Class\n",
            "January 2020 – June 2020\n",
            "▪\n",
            "Served as a project team leader and developed a database to track the adoption of animals proficiently\n",
            "▪\n",
            "Used Visual Basic to effectively establish a new user interface that improved user experience significantly\n",
            "▪\n",
            "Incorporated Java, HTML, and Flash to create an interactive website\n",
            "LEADERSHIP EXPERIENCE\n",
            "Pi Kappa Alpha Fraternity, Mu Nu Chapter\n",
            "Hammond, LA\n",
            "Risk Manager\n",
            "September 2020 – May 2021\n",
            "▪\n",
            "Regulated and ensured the compliance of campus and chapter safety rules and regulations for 85 members\n",
            "▪\n",
            "Handled regulation violations and distribute appropriate sanctions\n",
            "▪\n",
            "Coordinated 2 educational programs per semester to proactively avoid possible risks\n",
            "Treasurer\n",
            "September 2019 – May 2020\n",
            "▪\n",
            "Managed comprehensive budget of $55,000+ and allocated funds as needed\n",
            "▪\n",
            "Accurately completed all transactions and purchases to ensure proper account balances\n",
            "Self-Employed Lawn Service\n",
            "New Orleans, LA\n",
            "Lawn Maintenance\n",
            "Seasonal, Summers 2017 – 2019\n",
            "▪\n",
            "Successfully established and retained customer base of 75 homes in local neighborhoods\n",
            "▪\n",
            "Gained advanced experience establishing a small business, including marketing, sales, and financial components\n",
            "HONORS & INVOLVEMENT\n",
            "▪\n",
            "Dean’s List (3 semesters); Presidential Scholar (2 semesters)\n",
            "▪\n",
            "Women in Technology (August 2019 – May 2021); Intramural Soccer (Spring 2019)\n",
            "\n"
          ]
        }
      ]
    },
    {
      "cell_type": "code",
      "source": [
        "# Extract words along with bounding box information\n",
        "words = page.get_text(\"words\")\n",
        "\n",
        "# Print first 5 extracted words with bounding boxes\n",
        "for word in words[:5]:\n",
        "    print(word)"
      ],
      "metadata": {
        "colab": {
          "base_uri": "https://localhost:8080/"
        },
        "id": "9uCOfBOTGqNp",
        "outputId": "b8717fab-4c8d-4dc9-e3eb-cb425db4c414"
      },
      "execution_count": 5,
      "outputs": [
        {
          "output_type": "stream",
          "name": "stdout",
          "text": [
            "(36.0, 36.5234375, 82.21542358398438, 54.3984375, 'YOUR', 0, 0, 0)\n",
            "(86.65953063964844, 36.5234375, 133.76014709472656, 54.3984375, 'NAME', 0, 0, 1)\n",
            "(196.5922088623047, 41.955078125, 258.843994140625, 53.126953125, '123-456-7890', 0, 1, 0)\n",
            "(261.62060546875, 41.955078125, 267.18060302734375, 53.126953125, '–', 0, 1, 1)\n",
            "(269.95721435546875, 41.955078125, 321.6097412109375, 53.126953125, 'Hammond,', 0, 1, 2)\n"
          ]
        }
      ]
    },
    {
      "cell_type": "code",
      "source": [
        "# Extract structured text as blocks\n",
        "blocks = page.get_text(\"blocks\")\n",
        "\n",
        "# Print each block\n",
        "for block in blocks:\n",
        "    print(f\"Block: {block}\")"
      ],
      "metadata": {
        "colab": {
          "base_uri": "https://localhost:8080/"
        },
        "id": "pQjydne-G3Y3",
        "outputId": "64177066-8914-46ac-ceb0-d02c48b91c40"
      },
      "execution_count": 6,
      "outputs": [
        {
          "output_type": "stream",
          "name": "stdout",
          "text": [
            "Block: (36.0, 36.5234375, 576.0006713867188, 54.3984375, 'YOUR NAME\\n123-456-7890 – Hammond, LA – github.com/yourname – linkedin.com/yourname\\n', 0, 0)\n",
            "Block: (36.0, 77.7236328125, 190.7513885498047, 88.8955078125, 'SUMMARY OF QUALIFICATIONS\\n', 1, 0)\n",
            "Block: (54.0, 90.72265625, 544.3032836914062, 136.3916015625, '▪\\nProject management and consulting experience primarily focused upon nonprofit projects, requiring quick\\nturnarounds and extensive troubleshooting\\n▪\\nProven skills in planning, strategy development, and knowledge of customer and client business processes\\n▪\\nExcellent team-building and management skills with demonstrated success\\n', 2, 0)\n",
            "Block: (36.0, 145.91796875, 575.6719360351562, 193.0869140625, 'EDUCATION\\nSoutheastern Louisiana University (SLU)\\nHammond, LA\\nBachelor of Science in Computer Science\\nMay 2021\\nThesis: Computerized Enrollment and Student Information Systems\\n', 3, 0)\n",
            "Block: (54.0, 193.4140625, 305.9080505371094, 216.0849609375, '▪\\nMajor GPA: 3.84/4.00\\n▪\\nTaylor Opportunity Program for Students Scholarship\\n', 4, 0)\n",
            "Block: (36.0, 227.9111328125, 131.8929443359375, 239.0830078125, 'TECHNICAL SKILLS\\n', 5, 0)\n",
            "Block: (54.0, 240.91015625, 400.4905700683594, 286.5791015625, '▪\\nProgramming Languages:  Visual Basic, SQL, C, C++, Java\\n▪\\nOperating Systems:  Windows NT/ 2000/ XP/ Vista, Linux, Unix\\n▪\\nDatabase:  SQL Server, Microsoft (MS) Access, Oracle\\n▪\\nSoftware:  JCL, SQL, DB2, MS Visio, MS Excel, MS FrontPage, MS Word\\n', 6, 0)\n",
            "Block: (36.0, 296.10546875, 574.8803100585938, 366.2724609375, 'RELATED EXPERIENCE\\nBlog Writer\\nHammond, LA\\nSLU Computer Science Department\\nAugust 2020 – Present\\n▪\\nDesigned a student portal website that allows access to blogs, research articles, and inter-office communication\\n▪\\nWrote and published 5+ blog posts highlighting current industry trends, meeting monthly deadlines\\n▪\\nInterviewed faculty, staff, and employers ambitiously to generate content for blog posts and other relevant articles\\n', 7, 0)\n",
            "Block: (36.0, 378.0986328125, 574.30224609375, 435.2666015625, 'Financial Network Services, Pty Ltd.\\nSydney, Australia\\nUnix Administrator Assistant\\nJune – August 2019\\n▪\\nOperated Unix Hp/Ux 11i in the transferring of files between development and testing regions\\n▪\\nLed team of 4 to configure notebooks and install multilingual software for 6 overseas consultants\\n▪\\nCreated user accounts and set permissions and passwords with UNIX - SCO\\n', 8, 0)\n",
            "Block: (36.0, 444.79296875, 575.4815063476562, 514.9599609375, 'PROJECT EXPERIENCE\\nTangi Humane Society\\nHammond, LA\\nWeb Programming Class\\nJanuary 2020 – June 2020\\n▪\\nServed as a project team leader and developed a database to track the adoption of animals proficiently\\n▪\\nUsed Visual Basic to effectively establish a new user interface that improved user experience significantly\\n▪\\nIncorporated Java, HTML, and Flash to create an interactive website\\n', 9, 0)\n",
            "Block: (36.0, 524.486328125, 575.0194702148438, 629.150390625, 'LEADERSHIP EXPERIENCE\\nPi Kappa Alpha Fraternity, Mu Nu Chapter\\nHammond, LA\\nRisk Manager\\nSeptember 2020 – May 2021\\n▪\\nRegulated and ensured the compliance of campus and chapter safety rules and regulations for 85 members\\n▪\\nHandled regulation violations and distribute appropriate sanctions\\n▪\\nCoordinated 2 educational programs per semester to proactively avoid possible risks\\nTreasurer\\nSeptember 2019 – May 2020\\n▪\\nManaged comprehensive budget of $55,000+ and allocated funds as needed\\n▪\\nAccurately completed all transactions and purchases to ensure proper account balances\\n', 10, 0)\n",
            "Block: (36.0, 635.22705078125, 575.1284790039062, 680.89599609375, 'Self-Employed Lawn Service\\nNew Orleans, LA\\nLawn Maintenance\\nSeasonal, Summers 2017 – 2019\\n▪\\nSuccessfully established and retained customer base of 75 homes in local neighborhoods\\n▪\\nGained advanced experience establishing a small business, including marketing, sales, and financial components\\n', 11, 0)\n",
            "Block: (36.0, 690.42236328125, 164.10801696777344, 701.59423828125, 'HONORS & INVOLVEMENT\\n', 12, 0)\n",
            "Block: (54.0, 703.42138671875, 438.5325927734375, 726.09228515625, '▪\\nDean’s List (3 semesters); Presidential Scholar (2 semesters)\\n▪\\nWomen in Technology (August 2019 – May 2021); Intramural Soccer (Spring 2019)\\n', 13, 0)\n"
          ]
        }
      ]
    },
    {
      "cell_type": "code",
      "source": [
        "# Loop through all pages and extract text\n",
        "for page_num in range(len(doc)):\n",
        "    page = doc[page_num]\n",
        "    text = page.get_text(\"text\")\n",
        "    print(f\"--- Page {page_num + 1} ---\")\n",
        "    print(text)"
      ],
      "metadata": {
        "colab": {
          "base_uri": "https://localhost:8080/"
        },
        "id": "rcHyhZQ8HAG7",
        "outputId": "86fb8113-18fb-4122-ecbe-06f2890445be"
      },
      "execution_count": 7,
      "outputs": [
        {
          "output_type": "stream",
          "name": "stdout",
          "text": [
            "--- Page 1 ---\n",
            "YOUR NAME\n",
            "123-456-7890 – Hammond, LA – github.com/yourname – linkedin.com/yourname\n",
            "SUMMARY OF QUALIFICATIONS\n",
            "▪\n",
            "Project management and consulting experience primarily focused upon nonprofit projects, requiring quick\n",
            "turnarounds and extensive troubleshooting\n",
            "▪\n",
            "Proven skills in planning, strategy development, and knowledge of customer and client business processes\n",
            "▪\n",
            "Excellent team-building and management skills with demonstrated success\n",
            "EDUCATION\n",
            "Southeastern Louisiana University (SLU)\n",
            "Hammond, LA\n",
            "Bachelor of Science in Computer Science\n",
            "May 2021\n",
            "Thesis: Computerized Enrollment and Student Information Systems\n",
            "▪\n",
            "Major GPA: 3.84/4.00\n",
            "▪\n",
            "Taylor Opportunity Program for Students Scholarship\n",
            "TECHNICAL SKILLS\n",
            "▪\n",
            "Programming Languages:  Visual Basic, SQL, C, C++, Java\n",
            "▪\n",
            "Operating Systems:  Windows NT/ 2000/ XP/ Vista, Linux, Unix\n",
            "▪\n",
            "Database:  SQL Server, Microsoft (MS) Access, Oracle\n",
            "▪\n",
            "Software:  JCL, SQL, DB2, MS Visio, MS Excel, MS FrontPage, MS Word\n",
            "RELATED EXPERIENCE\n",
            "Blog Writer\n",
            "Hammond, LA\n",
            "SLU Computer Science Department\n",
            "August 2020 – Present\n",
            "▪\n",
            "Designed a student portal website that allows access to blogs, research articles, and inter-office communication\n",
            "▪\n",
            "Wrote and published 5+ blog posts highlighting current industry trends, meeting monthly deadlines\n",
            "▪\n",
            "Interviewed faculty, staff, and employers ambitiously to generate content for blog posts and other relevant articles\n",
            "Financial Network Services, Pty Ltd.\n",
            "Sydney, Australia\n",
            "Unix Administrator Assistant\n",
            "June – August 2019\n",
            "▪\n",
            "Operated Unix Hp/Ux 11i in the transferring of files between development and testing regions\n",
            "▪\n",
            "Led team of 4 to configure notebooks and install multilingual software for 6 overseas consultants\n",
            "▪\n",
            "Created user accounts and set permissions and passwords with UNIX - SCO\n",
            "PROJECT EXPERIENCE\n",
            "Tangi Humane Society\n",
            "Hammond, LA\n",
            "Web Programming Class\n",
            "January 2020 – June 2020\n",
            "▪\n",
            "Served as a project team leader and developed a database to track the adoption of animals proficiently\n",
            "▪\n",
            "Used Visual Basic to effectively establish a new user interface that improved user experience significantly\n",
            "▪\n",
            "Incorporated Java, HTML, and Flash to create an interactive website\n",
            "LEADERSHIP EXPERIENCE\n",
            "Pi Kappa Alpha Fraternity, Mu Nu Chapter\n",
            "Hammond, LA\n",
            "Risk Manager\n",
            "September 2020 – May 2021\n",
            "▪\n",
            "Regulated and ensured the compliance of campus and chapter safety rules and regulations for 85 members\n",
            "▪\n",
            "Handled regulation violations and distribute appropriate sanctions\n",
            "▪\n",
            "Coordinated 2 educational programs per semester to proactively avoid possible risks\n",
            "Treasurer\n",
            "September 2019 – May 2020\n",
            "▪\n",
            "Managed comprehensive budget of $55,000+ and allocated funds as needed\n",
            "▪\n",
            "Accurately completed all transactions and purchases to ensure proper account balances\n",
            "Self-Employed Lawn Service\n",
            "New Orleans, LA\n",
            "Lawn Maintenance\n",
            "Seasonal, Summers 2017 – 2019\n",
            "▪\n",
            "Successfully established and retained customer base of 75 homes in local neighborhoods\n",
            "▪\n",
            "Gained advanced experience establishing a small business, including marketing, sales, and financial components\n",
            "HONORS & INVOLVEMENT\n",
            "▪\n",
            "Dean’s List (3 semesters); Presidential Scholar (2 semesters)\n",
            "▪\n",
            "Women in Technology (August 2019 – May 2021); Intramural Soccer (Spring 2019)\n",
            "\n"
          ]
        }
      ]
    },
    {
      "cell_type": "code",
      "source": [
        "# Loop through all pages and extract text\n",
        "for page_num in range(len(doc)):\n",
        "    page = doc[page_num]\n",
        "    text = page.get_text(\"text\")\n",
        "    print(f\"--- Page {page_num + 1} ---\")\n",
        "    print(text)"
      ],
      "metadata": {
        "colab": {
          "base_uri": "https://localhost:8080/"
        },
        "id": "9uhZ0UXkHDaM",
        "outputId": "3609141e-d07c-4561-a845-e85c014b5074"
      },
      "execution_count": 8,
      "outputs": [
        {
          "output_type": "stream",
          "name": "stdout",
          "text": [
            "--- Page 1 ---\n",
            "YOUR NAME\n",
            "123-456-7890 – Hammond, LA – github.com/yourname – linkedin.com/yourname\n",
            "SUMMARY OF QUALIFICATIONS\n",
            "▪\n",
            "Project management and consulting experience primarily focused upon nonprofit projects, requiring quick\n",
            "turnarounds and extensive troubleshooting\n",
            "▪\n",
            "Proven skills in planning, strategy development, and knowledge of customer and client business processes\n",
            "▪\n",
            "Excellent team-building and management skills with demonstrated success\n",
            "EDUCATION\n",
            "Southeastern Louisiana University (SLU)\n",
            "Hammond, LA\n",
            "Bachelor of Science in Computer Science\n",
            "May 2021\n",
            "Thesis: Computerized Enrollment and Student Information Systems\n",
            "▪\n",
            "Major GPA: 3.84/4.00\n",
            "▪\n",
            "Taylor Opportunity Program for Students Scholarship\n",
            "TECHNICAL SKILLS\n",
            "▪\n",
            "Programming Languages:  Visual Basic, SQL, C, C++, Java\n",
            "▪\n",
            "Operating Systems:  Windows NT/ 2000/ XP/ Vista, Linux, Unix\n",
            "▪\n",
            "Database:  SQL Server, Microsoft (MS) Access, Oracle\n",
            "▪\n",
            "Software:  JCL, SQL, DB2, MS Visio, MS Excel, MS FrontPage, MS Word\n",
            "RELATED EXPERIENCE\n",
            "Blog Writer\n",
            "Hammond, LA\n",
            "SLU Computer Science Department\n",
            "August 2020 – Present\n",
            "▪\n",
            "Designed a student portal website that allows access to blogs, research articles, and inter-office communication\n",
            "▪\n",
            "Wrote and published 5+ blog posts highlighting current industry trends, meeting monthly deadlines\n",
            "▪\n",
            "Interviewed faculty, staff, and employers ambitiously to generate content for blog posts and other relevant articles\n",
            "Financial Network Services, Pty Ltd.\n",
            "Sydney, Australia\n",
            "Unix Administrator Assistant\n",
            "June – August 2019\n",
            "▪\n",
            "Operated Unix Hp/Ux 11i in the transferring of files between development and testing regions\n",
            "▪\n",
            "Led team of 4 to configure notebooks and install multilingual software for 6 overseas consultants\n",
            "▪\n",
            "Created user accounts and set permissions and passwords with UNIX - SCO\n",
            "PROJECT EXPERIENCE\n",
            "Tangi Humane Society\n",
            "Hammond, LA\n",
            "Web Programming Class\n",
            "January 2020 – June 2020\n",
            "▪\n",
            "Served as a project team leader and developed a database to track the adoption of animals proficiently\n",
            "▪\n",
            "Used Visual Basic to effectively establish a new user interface that improved user experience significantly\n",
            "▪\n",
            "Incorporated Java, HTML, and Flash to create an interactive website\n",
            "LEADERSHIP EXPERIENCE\n",
            "Pi Kappa Alpha Fraternity, Mu Nu Chapter\n",
            "Hammond, LA\n",
            "Risk Manager\n",
            "September 2020 – May 2021\n",
            "▪\n",
            "Regulated and ensured the compliance of campus and chapter safety rules and regulations for 85 members\n",
            "▪\n",
            "Handled regulation violations and distribute appropriate sanctions\n",
            "▪\n",
            "Coordinated 2 educational programs per semester to proactively avoid possible risks\n",
            "Treasurer\n",
            "September 2019 – May 2020\n",
            "▪\n",
            "Managed comprehensive budget of $55,000+ and allocated funds as needed\n",
            "▪\n",
            "Accurately completed all transactions and purchases to ensure proper account balances\n",
            "Self-Employed Lawn Service\n",
            "New Orleans, LA\n",
            "Lawn Maintenance\n",
            "Seasonal, Summers 2017 – 2019\n",
            "▪\n",
            "Successfully established and retained customer base of 75 homes in local neighborhoods\n",
            "▪\n",
            "Gained advanced experience establishing a small business, including marketing, sales, and financial components\n",
            "HONORS & INVOLVEMENT\n",
            "▪\n",
            "Dean’s List (3 semesters); Presidential Scholar (2 semesters)\n",
            "▪\n",
            "Women in Technology (August 2019 – May 2021); Intramural Soccer (Spring 2019)\n",
            "\n"
          ]
        }
      ]
    }
  ]
}